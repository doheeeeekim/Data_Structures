{
  "nbformat": 4,
  "nbformat_minor": 0,
  "metadata": {
    "colab": {
      "provenance": [],
      "authorship_tag": "ABX9TyN0h12ioqRAKDrvEKbtDnjs",
      "include_colab_link": true
    },
    "kernelspec": {
      "name": "python3",
      "display_name": "Python 3"
    },
    "language_info": {
      "name": "python"
    }
  },
  "cells": [
    {
      "cell_type": "markdown",
      "metadata": {
        "id": "view-in-github",
        "colab_type": "text"
      },
      "source": [
        "<a href=\"https://colab.research.google.com/github/doheeeeekim/Data_Structures/blob/main/Queue.ipynb\" target=\"_parent\"><img src=\"https://colab.research.google.com/assets/colab-badge.svg\" alt=\"Open In Colab\"/></a>"
      ]
    },
    {
      "cell_type": "code",
      "execution_count": null,
      "metadata": {
        "colab": {
          "base_uri": "https://localhost:8080/"
        },
        "id": "rSRVmivIm3tF",
        "outputId": "6e30ecbb-8e94-4061-d27e-34d41981087d"
      },
      "outputs": [
        {
          "output_type": "stream",
          "name": "stdout",
          "text": [
            "['김도희', '1', 'Datastructure', 'Algorithm', 'Yongjae Lee']\n",
            "There are 4 elements[Algorithm ,Yongjae Lee ,김도희 ,1 ]\n"
          ]
        }
      ],
      "source": [
        "#배열을 사용한 Queue만들기\n",
        "class ArrayQueue:\n",
        "  def __init__(self, N):\n",
        "    self.dim=N\n",
        "    self.data=[0]*N\n",
        "    self.front=0\n",
        "    self.rear=0\n",
        "\n",
        "  def isEmpty(self):\n",
        "    return(self.front==self.rear)\n",
        "\n",
        "  def size(self):\n",
        "    return(self.dim-self.front+self.rear)%self.dim\n",
        "\n",
        "  def enqueue(self, o):\n",
        "    if self.size()==self.dim-1:\n",
        "      print(\"Full Queue\")\n",
        "    else:\n",
        "      self.data[self.rear]=o\n",
        "      self.rear=(self.rear+1)%self.dim\n",
        "\n",
        "  def dequeue(self):\n",
        "    if self.isEmpty():\n",
        "      print(\"Empty Queue\")\n",
        "    else:\n",
        "      o=self.data[self.front]\n",
        "      self.front=(self.front+1)%self.dim\n",
        "\n",
        "  def printQueue(self):\n",
        "    print(\"There are\", self.size(),\"elements\", end='')\n",
        "    print('[',end='')\n",
        "    cur=self.front\n",
        "    while cur != self.rear:\n",
        "      if ((cur+1)%self.dim) ==self.rear:\n",
        "        print(self.data[cur],']')\n",
        "      else:\n",
        "        print(self.data[cur],',',end='')\n",
        "      cur=(cur+1)%self.dim\n",
        "\n",
        "if __name__=='__main__': #인터프리터\n",
        "  q=ArrayQueue(5)\n",
        "  q.enqueue(\"Hyerim Bae\")\n",
        "  q.enqueue(\"Dohee Kim\")\n",
        "  q.dequeue()\n",
        "  q.enqueue(\"Datastructure\")\n",
        "  q.enqueue(\"Algorithm\")\n",
        "  q.dequeue()\n",
        "  q.dequeue()\n",
        "  q.enqueue(\"Yongjae Lee\")\n",
        "  q.enqueue(\"김도희\")\n",
        "  q.enqueue(\"1\")\n",
        "\n",
        "  print(q.data)\n",
        "  q.printQueue()"
      ]
    }
  ]
}
