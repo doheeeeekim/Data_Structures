{
  "nbformat": 4,
  "nbformat_minor": 0,
  "metadata": {
    "colab": {
      "provenance": [],
      "authorship_tag": "ABX9TyM2vQA+DrLHCg/ygbckI6BO",
      "include_colab_link": true
    },
    "kernelspec": {
      "name": "python3",
      "display_name": "Python 3"
    },
    "language_info": {
      "name": "python"
    }
  },
  "cells": [
    {
      "cell_type": "markdown",
      "metadata": {
        "id": "view-in-github",
        "colab_type": "text"
      },
      "source": [
        "<a href=\"https://colab.research.google.com/github/doheeeeekim/Data_Structures/blob/main/ArrayMax.ipynb\" target=\"_parent\"><img src=\"https://colab.research.google.com/assets/colab-badge.svg\" alt=\"Open In Colab\"/></a>"
      ]
    },
    {
      "cell_type": "code",
      "execution_count": null,
      "metadata": {
        "id": "5jWDATKXlO9B"
      },
      "outputs": [],
      "source": [
        "from random import *"
      ]
    },
    {
      "cell_type": "markdown",
      "source": [
        "#사용자의 입력을 받아 들이는 부분"
      ],
      "metadata": {
        "id": "3wsc93ermktm"
      }
    },
    {
      "cell_type": "code",
      "source": [
        "n= int(input(\"몇 개의 숫자를 생성할까요?\"))"
      ],
      "metadata": {
        "colab": {
          "base_uri": "https://localhost:8080/"
        },
        "id": "3U6mA15VmGBf",
        "outputId": "dc03178f-4777-4f27-f783-0229f25ba3ff"
      },
      "execution_count": null,
      "outputs": [
        {
          "name": "stdout",
          "output_type": "stream",
          "text": [
            "몇 개의 숫자를 생성할까요?100\n"
          ]
        }
      ]
    },
    {
      "cell_type": "markdown",
      "source": [
        "#리스트 형태의 배열을 생성"
      ],
      "metadata": {
        "id": "H9TDKh3Im4CW"
      }
    },
    {
      "cell_type": "code",
      "source": [
        "A=[]"
      ],
      "metadata": {
        "id": "0503KK9QmL1s"
      },
      "execution_count": null,
      "outputs": []
    },
    {
      "cell_type": "code",
      "source": [
        "for i in range (0,n):\n",
        "  A.append(randint(1,100)) #무작위 생성된 숫자를 A에 추가"
      ],
      "metadata": {
        "id": "KLnI-6i3mN_0"
      },
      "execution_count": null,
      "outputs": []
    },
    {
      "cell_type": "markdown",
      "source": [
        "#생성된 배열을 확인"
      ],
      "metadata": {
        "id": "W4iuBkXBnC1i"
      }
    },
    {
      "cell_type": "code",
      "source": [
        "print(A)"
      ],
      "metadata": {
        "colab": {
          "base_uri": "https://localhost:8080/"
        },
        "id": "YebgJqGlmb6w",
        "outputId": "18e1eb8c-19fe-4fb4-a42c-4d2e91c66ff3"
      },
      "execution_count": null,
      "outputs": [
        {
          "output_type": "stream",
          "name": "stdout",
          "text": [
            "[12, 73, 82, 31, 68, 32, 36, 3, 35, 10, 53, 63, 75, 77, 33, 93, 37, 15, 74, 10, 87, 65, 82, 74, 100, 13, 100, 26, 96, 30, 20, 85, 87, 66, 82, 75, 24, 37, 90, 26, 100, 15, 88, 2, 38, 13, 93, 31, 57, 52, 12, 28, 40, 6, 12, 70, 37, 85, 12, 84, 91, 89, 65, 40, 37, 97, 60, 56, 76, 17, 4, 44, 57, 16, 49, 48, 6, 72, 75, 92, 86, 75, 91, 11, 38, 86, 47, 69, 96, 90, 24, 36, 56, 15, 41, 88, 5, 29, 95, 93]\n"
          ]
        }
      ]
    },
    {
      "cell_type": "code",
      "source": [
        "max = -1"
      ],
      "metadata": {
        "id": "r9X1N-PrnMo0"
      },
      "execution_count": null,
      "outputs": []
    },
    {
      "cell_type": "code",
      "source": [
        "for i in range(len(A)):\n",
        "  if A[i] > max:\n",
        "    max = A[i]"
      ],
      "metadata": {
        "id": "fA_sxxeOnQMu"
      },
      "execution_count": null,
      "outputs": []
    },
    {
      "cell_type": "code",
      "source": [
        "print(\"가장 큰 숫자는:\", max)"
      ],
      "metadata": {
        "colab": {
          "base_uri": "https://localhost:8080/"
        },
        "id": "leekAVgvniRc",
        "outputId": "8c27d136-b898-4995-8e86-5b544a40ec30"
      },
      "execution_count": null,
      "outputs": [
        {
          "output_type": "stream",
          "name": "stdout",
          "text": [
            "가장 큰 숫자는: 100\n"
          ]
        }
      ]
    },
    {
      "cell_type": "code",
      "source": [
        "def maxArray(A):\n",
        "  max = -1\n",
        "  for i in range(len(A)):\n",
        "    if A[i]> max:\n",
        "      max=A[i]\n",
        "  return max"
      ],
      "metadata": {
        "id": "o_WrPXODnpq0"
      },
      "execution_count": null,
      "outputs": []
    },
    {
      "cell_type": "code",
      "source": [
        "maxArray(A)"
      ],
      "metadata": {
        "colab": {
          "base_uri": "https://localhost:8080/"
        },
        "id": "NYPVZKZLn_Rh",
        "outputId": "2ad43c86-f2f9-4da7-ab69-6e13e621cf07"
      },
      "execution_count": null,
      "outputs": [
        {
          "output_type": "execute_result",
          "data": {
            "text/plain": [
              "100"
            ]
          },
          "metadata": {},
          "execution_count": 10
        }
      ]
    }
  ]
}
