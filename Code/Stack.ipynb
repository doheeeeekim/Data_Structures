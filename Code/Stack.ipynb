{
  "nbformat": 4,
  "nbformat_minor": 0,
  "metadata": {
    "colab": {
      "provenance": [],
      "include_colab_link": true
    },
    "kernelspec": {
      "name": "python3",
      "display_name": "Python 3"
    },
    "language_info": {
      "name": "python"
    }
  },
  "cells": [
    {
      "cell_type": "markdown",
      "metadata": {
        "id": "view-in-github",
        "colab_type": "text"
      },
      "source": [
        "<a href=\"https://colab.research.google.com/github/doheeeeekim/Data_Structures/blob/main/Stack.ipynb\" target=\"_parent\"><img src=\"https://colab.research.google.com/assets/colab-badge.svg\" alt=\"Open In Colab\"/></a>"
      ]
    },
    {
      "cell_type": "markdown",
      "source": [
        "#List로 stack 구현하기"
      ],
      "metadata": {
        "id": "Gwl9Rxd4fP0Z"
      }
    },
    {
      "cell_type": "code",
      "execution_count": null,
      "metadata": {
        "colab": {
          "base_uri": "https://localhost:8080/"
        },
        "id": "k8stpnkjfJw9",
        "outputId": "15e8f6fe-6e26-48b8-d7c5-d2c376c417b4"
      },
      "outputs": [
        {
          "output_type": "stream",
          "name": "stdout",
          "text": [
            "There are 1 element: [Dowon Kim ]\n"
          ]
        }
      ],
      "source": [
        "class Stack:\n",
        "    def __init__(self,d): #입력, 초기화\n",
        "      self.top=-1\n",
        "      self.dim=d\n",
        "      self.data=[0]*d\n",
        "\n",
        "    def push(self, o):\n",
        "      if(self.top==len(self.data)-1): #Stack이 가득 찬 경우\n",
        "        self.data=self.data+[0]*self.dim #원하는 dimension만큼 늘려줌\n",
        "      else:\n",
        "        self.top=self.top+1\n",
        "        self.data[self.top]=o\n",
        "\n",
        "    def pop(self):\n",
        "      if self.top<0:\n",
        "        print(\"Stack is Empty\")\n",
        "        return None\n",
        "      else:\n",
        "        self.top=self.top-1\n",
        "        return self.data[self.top]\n",
        "\n",
        "    def isEmpty(self):\n",
        "      if self.top<0:\n",
        "        return True\n",
        "      else:\n",
        "        return False\n",
        "\n",
        "    def size(self):\n",
        "      return self.top+1\n",
        "\n",
        "    def printStack(self):\n",
        "      print(\"There are\", self.size(), \"element: \", end='')\n",
        "      print('[', end='')\n",
        "      for i in range(0, self.size()):\n",
        "        if i==self.size()-1:\n",
        "          print(self.data[i], ']')\n",
        "        else:\n",
        "          print(self.data[i],',', end='')\n",
        "\n",
        "if __name__=='__main__':\n",
        "  s=Stack(2)\n",
        "  s.push(\"Dohee Kim\")\n",
        "  s.push(\"Hyerim Bae\")\n",
        "  s.pop()\n",
        "  s.push(\"Yongjae Lee\")\n",
        "  s.pop()\n",
        "  s.pop()\n",
        "  s.push(\"Dowon Kim\")\n",
        "\n",
        "  #print(s.top)\n",
        "\n",
        "  s.printStack()\n",
        "\n",
        "\n",
        "\n",
        "\n"
      ]
    }
  ]
}
