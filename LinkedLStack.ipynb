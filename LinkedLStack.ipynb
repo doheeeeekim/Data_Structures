{
  "nbformat": 4,
  "nbformat_minor": 0,
  "metadata": {
    "colab": {
      "provenance": [],
      "authorship_tag": "ABX9TyN5KyzeAuMZAAEziEwMtfBy",
      "include_colab_link": true
    },
    "kernelspec": {
      "name": "python3",
      "display_name": "Python 3"
    },
    "language_info": {
      "name": "python"
    }
  },
  "cells": [
    {
      "cell_type": "markdown",
      "metadata": {
        "id": "view-in-github",
        "colab_type": "text"
      },
      "source": [
        "<a href=\"https://colab.research.google.com/github/doheeeeekim/Data_Structures/blob/main/LinkedLStack.ipynb\" target=\"_parent\"><img src=\"https://colab.research.google.com/assets/colab-badge.svg\" alt=\"Open In Colab\"/></a>"
      ]
    },
    {
      "cell_type": "code",
      "source": [
        "#구글드라이브에 마운트하기\n",
        "from google.colab import drive\n",
        "drive.mount('/content/drive')\n"
      ],
      "metadata": {
        "colab": {
          "base_uri": "https://localhost:8080/"
        },
        "id": "gsMtPBjqYvta",
        "outputId": "1c5a2d7c-7dea-4624-eab1-f2c321a66e6c"
      },
      "execution_count": null,
      "outputs": [
        {
          "output_type": "stream",
          "name": "stdout",
          "text": [
            "Drive already mounted at /content/drive; to attempt to forcibly remount, call drive.mount(\"/content/drive\", force_remount=True).\n"
          ]
        }
      ]
    },
    {
      "cell_type": "code",
      "source": [
        "#모듈을 저장한 디렉토리 확인\n",
        "import sys\n",
        "sys.path.append('/content/drive/MyDrive/데이터구조및알고리즘')\n",
        "print(sys.path)"
      ],
      "metadata": {
        "colab": {
          "base_uri": "https://localhost:8080/"
        },
        "id": "sIj1wjrMY1wn",
        "outputId": "1626daf7-0f46-47df-8d1b-f37b800c9b85"
      },
      "execution_count": null,
      "outputs": [
        {
          "output_type": "stream",
          "name": "stdout",
          "text": [
            "['/content', '/env/python', '/usr/lib/python310.zip', '/usr/lib/python3.10', '/usr/lib/python3.10/lib-dynload', '', '/usr/local/lib/python3.10/dist-packages', '/usr/lib/python3/dist-packages', '/usr/local/lib/python3.10/dist-packages/IPython/extensions', '/root/.ipython', '/content/drive/MyDrive/데이터구조및알고리즘']\n"
          ]
        }
      ]
    },
    {
      "cell_type": "code",
      "source": [
        "from LinkedList import LinkedList"
      ],
      "metadata": {
        "colab": {
          "base_uri": "https://localhost:8080/"
        },
        "id": "Mot3qhjrZJYD",
        "outputId": "c2e022c9-bfcd-486c-8d5e-435e6dc4608d"
      },
      "execution_count": null,
      "outputs": [
        {
          "output_type": "stream",
          "name": "stdout",
          "text": [
            "Drive already mounted at /content/drive; to attempt to forcibly remount, call drive.mount(\"/content/drive\", force_remount=True).\n",
            "['/content', '/env/python', '/usr/lib/python310.zip', '/usr/lib/python3.10', '/usr/lib/python3.10/lib-dynload', '', '/usr/local/lib/python3.10/dist-packages', '/usr/lib/python3/dist-packages', '/usr/local/lib/python3.10/dist-packages/IPython/extensions', '/root/.ipython', '/content/drive/MyDrive/데이터구조및알고리즘', '/content/drive/MyDrive/데이터구조및알고리즘/']\n"
          ]
        }
      ]
    },
    {
      "cell_type": "code",
      "execution_count": null,
      "metadata": {
        "colab": {
          "base_uri": "https://localhost:8080/"
        },
        "id": "xgcklKu_W3aO",
        "outputId": "cb76e406-3bc9-4781-d0f7-5cdd40619adf"
      },
      "outputs": [
        {
          "output_type": "stream",
          "name": "stdout",
          "text": [
            "There are 2 elements in the Stack: [Dohee Kim ,Yongjae Lee ]"
          ]
        }
      ],
      "source": [
        "class LStack:\n",
        "  def __init__(self):\n",
        "    self.size= 0\n",
        "    self.top= None\n",
        "    self.data= LinkedList()\n",
        "\n",
        "  def push(self,o):\n",
        "    self.top = self.data.insertLast(o) #맨마지막 위치에 o를 넣어주고, 마지막이 top을 가리키게\n",
        "    self.size = self.size+1\n",
        "\n",
        "  def pop(self):\n",
        "    self.size=self.size-1\n",
        "    self.top=self.top.getPrev()\n",
        "    return self.data.remove(self.top.getNext())\n",
        "\n",
        "  def isEmpty(self):\n",
        "    if self.size==0:\n",
        "      return True\n",
        "    else:\n",
        "      return False\n",
        "\n",
        "  def size(self):\n",
        "    return self.size\n",
        "\n",
        "  def printStack(self):\n",
        "    print(\"There are\",self.size,\"elements in the Stack: \", end='')\n",
        "    self.data.printList()\n",
        "\n",
        "if __name__=='__main__':\n",
        "  s=LStack()\n",
        "  s.push(\"Dohee Kim\")\n",
        "  s.push(\"Hyerim Bae\")\n",
        "  #print(s.top)\n",
        "  s.pop()\n",
        "  s.push(\"Yongjae Lee\")\n",
        "  #print(s.top)\n",
        "  s.printStack()\n"
      ]
    }
  ]
}