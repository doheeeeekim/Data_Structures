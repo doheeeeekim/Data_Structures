{
  "nbformat": 4,
  "nbformat_minor": 0,
  "metadata": {
    "colab": {
      "provenance": [],
      "authorship_tag": "ABX9TyN1aB7w0IaHTqnuM+d8Kzkb",
      "include_colab_link": true
    },
    "kernelspec": {
      "name": "python3",
      "display_name": "Python 3"
    },
    "language_info": {
      "name": "python"
    }
  },
  "cells": [
    {
      "cell_type": "markdown",
      "metadata": {
        "id": "view-in-github",
        "colab_type": "text"
      },
      "source": [
        "<a href=\"https://colab.research.google.com/github/hrbae/Data_Structures/blob/main/Queue.ipynb\" target=\"_parent\"><img src=\"https://colab.research.google.com/assets/colab-badge.svg\" alt=\"Open In Colab\"/></a>"
      ]
    },
    {
      "cell_type": "code",
      "execution_count": 1,
      "metadata": {
        "colab": {
          "base_uri": "https://localhost:8080/"
        },
        "id": "BVWQpZYhPuS-",
        "outputId": "f71e72c7-c38e-47bc-a37b-192590cd8035"
      },
      "outputs": [
        {
          "output_type": "stream",
          "name": "stdout",
          "text": [
            "Mounted at /content/drive\n"
          ]
        }
      ],
      "source": [
        "# Google drive를 마운트\n",
        "from google.colab import drive\n",
        "drive.mount('/content/drive', force_remount=True)"
      ]
    },
    {
      "cell_type": "code",
      "source": [
        "!pwd"
      ],
      "metadata": {
        "colab": {
          "base_uri": "https://localhost:8080/"
        },
        "id": "zAaY6VOTQdN5",
        "outputId": "8cd98127-5866-4432-a629-169b5a7d2a05"
      },
      "execution_count": 2,
      "outputs": [
        {
          "output_type": "stream",
          "name": "stdout",
          "text": [
            "/content\n"
          ]
        }
      ]
    },
    {
      "cell_type": "code",
      "source": [
        "\n",
        "%cd drive/MyDrive/Colab\\ Notebooks/Data_Structures"
      ],
      "metadata": {
        "colab": {
          "base_uri": "https://localhost:8080/"
        },
        "id": "V3lDYXnTQmDV",
        "outputId": "7b42c086-52ca-4f25-ff71-69028e796327"
      },
      "execution_count": 3,
      "outputs": [
        {
          "output_type": "stream",
          "name": "stdout",
          "text": [
            "/content/drive/MyDrive/Colab Notebooks/Data_Structures\n"
          ]
        }
      ]
    },
    {
      "cell_type": "code",
      "source": [
        "from DS_Class.LinkedList import LinkedList"
      ],
      "metadata": {
        "id": "h9H-KvNNQpk2"
      },
      "execution_count": 4,
      "outputs": []
    },
    {
      "cell_type": "code",
      "source": [
        "class ArrayQueue:\n",
        "    def __init__(self, N):\n",
        "        self.dim=N\n",
        "        self.data=[0]*N\n",
        "        self.front=0\n",
        "        self.rear=0\n",
        "\n",
        "    def isEmpty(self):\n",
        "        return (self.front==self.rear)\n",
        "\n",
        "    def size(self):\n",
        "        return (self.dim-self.front+self.rear) % self.dim\n",
        "\n",
        "    def enqueue(self,o):\n",
        "        if self.size() == self.dim-1:\n",
        "            print(\"Full Queue\")\n",
        "        else:\n",
        "            self.data[self.rear]=o\n",
        "            self.rear = (self.rear+1) % self.dim\n",
        "\n",
        "    def dequeue(self):\n",
        "        if self.isEmpty():\n",
        "            print(\"Empty Queue\")\n",
        "        else:\n",
        "            o = self.data[self.front]\n",
        "            self.front = (self.front+1) % self.dim\n",
        "            return o\n",
        "\n",
        "    def printQueue(self):\n",
        "        print(\"There are \", self.size(), \" elements: \", end='')\n",
        "        print('[', end='')\n",
        "        cur=self.front\n",
        "        while cur!=self.rear:\n",
        "            if ((cur+1)%self.dim) == self.rear:\n",
        "                print(self.data[cur], ']')\n",
        "            else:\n",
        "                print(self.data[cur], ',', end='')\n",
        "            cur=(cur+1)%self.dim"
      ],
      "metadata": {
        "id": "pxdXUB0BRWln"
      },
      "execution_count": 6,
      "outputs": []
    },
    {
      "cell_type": "code",
      "source": [
        "    q=ArrayQueue(5)\n",
        "    #q=ListQueue()\n",
        "    q.enqueue(\"Hyerim Bae\")\n",
        "    q.enqueue(\"Wonkyunmg Kim\")\n",
        "    q.dequeue()\n",
        "    q.enqueue(\"Taewoong Bae\")\n",
        "    q.enqueue(\"Taeyoung Bae\")\n",
        "    q.enqueue(\"AA\")\n",
        "    print(q.dequeue(), \" has been dequeued\")\n",
        "    q.enqueue(\"BB\")\n",
        "    #q.printQueue()\n",
        "    print(q.data)"
      ],
      "metadata": {
        "colab": {
          "base_uri": "https://localhost:8080/"
        },
        "id": "9FIFnUdARm2D",
        "outputId": "2e01337d-54a9-418a-c4dd-09d700002769"
      },
      "execution_count": 7,
      "outputs": [
        {
          "output_type": "stream",
          "name": "stdout",
          "text": [
            "Wonkyunmg Kim  has been dequeued\n",
            "['BB', 'Wonkyunmg Kim', 'Taewoong Bae', 'Taeyoung Bae', 'AA']\n"
          ]
        }
      ]
    },
    {
      "cell_type": "code",
      "source": [
        "from DS_Class.Queue import ListQueue"
      ],
      "metadata": {
        "id": "Oi5Sz3PiSeeq"
      },
      "execution_count": 5,
      "outputs": []
    },
    {
      "cell_type": "code",
      "source": [
        "q=ListQueue()\n",
        "q.enqueue(\"Hyerim Bae\")\n",
        "q.enqueue(\"Wonkyunmg Kim\")\n",
        "q.dequeue()\n",
        "q.enqueue(\"Taewoong Bae\")\n",
        "q.enqueue(\"Taeyoung Bae\")\n",
        "q.enqueue(\"AA\")\n",
        "print(q.dequeue(), \" has been dequeued\")\n",
        "q.enqueue(\"BB\")\n",
        "q.printQueue()\n"
      ],
      "metadata": {
        "colab": {
          "base_uri": "https://localhost:8080/"
        },
        "id": "4mbhVD0ES88O",
        "outputId": "0e887dcb-7147-41e3-9652-1ff78bc48004"
      },
      "execution_count": 6,
      "outputs": [
        {
          "output_type": "stream",
          "name": "stdout",
          "text": [
            "Wonkyunmg Kim  has been dequeued\n",
            "[Taewoong Bae ,Taeyoung Bae ,AA ,BB ]"
          ]
        }
      ]
    },
    {
      "cell_type": "markdown",
      "source": [
        "# 새 섹션"
      ],
      "metadata": {
        "id": "wwluQIECSuQN"
      }
    }
  ]
}