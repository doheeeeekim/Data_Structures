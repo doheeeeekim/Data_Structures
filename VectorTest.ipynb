{
  "nbformat": 4,
  "nbformat_minor": 0,
  "metadata": {
    "colab": {
      "provenance": [],
      "authorship_tag": "ABX9TyN8fL4qpjcMuCAqdrYnwU8e",
      "include_colab_link": true
    },
    "kernelspec": {
      "name": "python3",
      "display_name": "Python 3"
    },
    "language_info": {
      "name": "python"
    }
  },
  "cells": [
    {
      "cell_type": "markdown",
      "metadata": {
        "id": "view-in-github",
        "colab_type": "text"
      },
      "source": [
        "<a href=\"https://colab.research.google.com/github/hrbae/Data_Structures/blob/main/VectorTest.ipynb\" target=\"_parent\"><img src=\"https://colab.research.google.com/assets/colab-badge.svg\" alt=\"Open In Colab\"/></a>"
      ]
    },
    {
      "cell_type": "code",
      "execution_count": 1,
      "metadata": {
        "colab": {
          "base_uri": "https://localhost:8080/"
        },
        "id": "BO-npjbkqG1g",
        "outputId": "4620f943-bd0d-4de5-a0e7-c87b61837765"
      },
      "outputs": [
        {
          "output_type": "stream",
          "name": "stdout",
          "text": [
            "Mounted at /content/drive\n"
          ]
        }
      ],
      "source": [
        "# Google drive를 마운트\n",
        "from google.colab import drive\n",
        "drive.mount('/content/drive', force_remount=True)"
      ]
    },
    {
      "cell_type": "code",
      "source": [
        "%cd drive/MyDrive/Colab\\ Notebooks/Data_Structures\n"
      ],
      "metadata": {
        "colab": {
          "base_uri": "https://localhost:8080/"
        },
        "id": "MzyzoIbhqpec",
        "outputId": "8e0ed650-719a-40a2-8482-a5495c31c69b"
      },
      "execution_count": 2,
      "outputs": [
        {
          "output_type": "stream",
          "name": "stdout",
          "text": [
            "/content/drive/MyDrive/Colab Notebooks/Data_Structures\n"
          ]
        }
      ]
    },
    {
      "cell_type": "code",
      "source": [
        "from DS_Class.Vector import MyVector\n",
        "\n",
        "mv = MyVector(2)\n",
        "\n",
        "# 차례대로 넣어보기\n",
        "for i in range(0, 100):\n",
        "  mv.insertLast(i)\n",
        "\n",
        "mv.printVector()\n",
        "\n",
        "# 앞에것 50개 제거\n",
        "for i in range(0, 50):\n",
        "  mv.removeAt(0)\n",
        "\n",
        "mv.replaceAt(0, 1)\n",
        "mv.printVector()"
      ],
      "metadata": {
        "colab": {
          "base_uri": "https://localhost:8080/"
        },
        "id": "lXSY5YcnqtnY",
        "outputId": "7d72ed6b-025f-40d6-beb0-d1b46f5cd274"
      },
      "execution_count": 5,
      "outputs": [
        {
          "output_type": "stream",
          "name": "stdout",
          "text": [
            "꽉 찼어요. 벡터를 조금 더 늘립니다.  1\n",
            "꽉 찼어요. 벡터를 조금 더 늘립니다.  3\n",
            "꽉 찼어요. 벡터를 조금 더 늘립니다.  7\n",
            "꽉 찼어요. 벡터를 조금 더 늘립니다.  15\n",
            "꽉 찼어요. 벡터를 조금 더 늘립니다.  31\n",
            "꽉 찼어요. 벡터를 조금 더 늘립니다.  63\n",
            "[0 ,1 ,2 ,3 ,4 ,5 ,6 ,7 ,8 ,9 ,10 ,11 ,12 ,13 ,14 ,15 ,16 ,17 ,18 ,19 ,20 ,21 ,22 ,23 ,24 ,25 ,26 ,27 ,28 ,29 ,30 ,31 ,32 ,33 ,34 ,35 ,36 ,37 ,38 ,39 ,40 ,41 ,42 ,43 ,44 ,45 ,46 ,47 ,48 ,49 ,50 ,51 ,52 ,53 ,54 ,55 ,56 ,57 ,58 ,59 ,60 ,61 ,62 ,63 ,64 ,65 ,66 ,67 ,68 ,69 ,70 ,71 ,72 ,73 ,74 ,75 ,76 ,77 ,78 ,79 ,80 ,81 ,82 ,83 ,84 ,85 ,86 ,87 ,88 ,89 ,90 ,91 ,92 ,93 ,94 ,95 ,96 ,97 ,98 ,99 ]\n",
            "[1 ,51 ,52 ,53 ,54 ,55 ,56 ,57 ,58 ,59 ,60 ,61 ,62 ,63 ,64 ,65 ,66 ,67 ,68 ,69 ,70 ,71 ,72 ,73 ,74 ,75 ,76 ,77 ,78 ,79 ,80 ,81 ,82 ,83 ,84 ,85 ,86 ,87 ,88 ,89 ,90 ,91 ,92 ,93 ,94 ,95 ,96 ,97 ,98 ,99 ]\n"
          ]
        }
      ]
    },
    {
      "cell_type": "code",
      "source": [
        "import sys\n",
        "\n",
        "class Student:\n",
        "    def __init__(self, name,score):\n",
        "        self.score=score\n",
        "        self.name=name\n"
      ],
      "metadata": {
        "id": "j0HKeIEaxrb2"
      },
      "execution_count": 8,
      "outputs": []
    },
    {
      "cell_type": "code",
      "source": [
        "data = MyVector(10)\n",
        "data.insertLast(Student(\"Gregg\", 89))\n",
        "data.insertLast(Student(\"Velva\", 90))\n",
        "data.insertLast(Student(\"Randell\", 100))\n",
        "data.insertLast(Student(\"Vallie\", 75))\n",
        "data.insertLast(Student(\"Tammi\", 68))\n",
        "data.insertLast(Student(\"Ima\", 99))\n",
        "data.insertLast(Student(\"Mina\", 76))\n",
        "data.insertLast(Student(\"Fleta\", 88))\n",
        "MIN_score = sys.maxsize\n",
        "MAX_score = -(sys.maxsize - 1)\n",
        "\n",
        "# print(MAX, MIN)\n",
        "MAX = 0\n",
        "MIN = 0\n",
        "for i in range(0, data.getSize()):\n",
        "    if data.elementAt(i).score < MIN_score:\n",
        "        MIN = i\n",
        "        MIN_score = data.elementAt(MIN).score\n",
        "    if data.elementAt(i).score > MAX_score:\n",
        "        MAX = i\n",
        "        MAX_score = data.elementAt(MAX).score\n",
        "\n",
        "print(\"MAX:\", data.elementAt(MAX).name, \", MIN:\", data.elementAt(MIN).name)"
      ],
      "metadata": {
        "colab": {
          "base_uri": "https://localhost:8080/"
        },
        "id": "n_qfdnJ5v9vZ",
        "outputId": "e22d54ba-a871-4c58-b3a3-59c0d4748a7d"
      },
      "execution_count": 10,
      "outputs": [
        {
          "output_type": "stream",
          "name": "stdout",
          "text": [
            "MAX: Randell , MIN: Tammi\n"
          ]
        }
      ]
    }
  ]
}