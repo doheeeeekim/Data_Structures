{
  "nbformat": 4,
  "nbformat_minor": 0,
  "metadata": {
    "colab": {
      "name": "D2_rail_way.ipynb",
      "provenance": [],
      "authorship_tag": "ABX9TyMEzqeZ5Xjm3ISzF9WW+lHM",
      "include_colab_link": true
    },
    "kernelspec": {
      "name": "python3",
      "display_name": "Python 3"
    },
    "language_info": {
      "name": "python"
    }
  },
  "cells": [
    {
      "cell_type": "markdown",
      "metadata": {
        "id": "view-in-github",
        "colab_type": "text"
      },
      "source": [
        "<a href=\"https://colab.research.google.com/github/hrbae/Data_Structures/blob/main/D2_rail_way.ipynb\" target=\"_parent\"><img src=\"https://colab.research.google.com/assets/colab-badge.svg\" alt=\"Open In Colab\"/></a>"
      ]
    },
    {
      "cell_type": "code",
      "metadata": {
        "colab": {
          "base_uri": "https://localhost:8080/"
        },
        "id": "yKOJ7tyXCySJ",
        "outputId": "a362dd47-378e-488f-cb85-6966aa40f447"
      },
      "source": [
        "# Google drive를 마운트\n",
        "from google.colab import drive\n",
        "drive.mount('/content/drive', force_remount=True)"
      ],
      "execution_count": 1,
      "outputs": [
        {
          "output_type": "stream",
          "name": "stdout",
          "text": [
            "Mounted at /content/drive\n"
          ]
        }
      ]
    },
    {
      "cell_type": "code",
      "metadata": {
        "colab": {
          "base_uri": "https://localhost:8080/"
        },
        "id": "9-l2kkrrDpkM",
        "outputId": "61aaa064-1d45-4816-b3ae-0339e66e957d"
      },
      "source": [
        "!pwd"
      ],
      "execution_count": null,
      "outputs": [
        {
          "output_type": "stream",
          "name": "stdout",
          "text": [
            "/content\n"
          ]
        }
      ]
    },
    {
      "cell_type": "code",
      "metadata": {
        "colab": {
          "base_uri": "https://localhost:8080/"
        },
        "id": "GC8r26wtDs9C",
        "outputId": "3df6e77c-3b89-4540-a9a3-3601870adb26"
      },
      "source": [
        "%cd drive/MyDrive/Colab\\ Notebooks/Data_Structures"
      ],
      "execution_count": 2,
      "outputs": [
        {
          "output_type": "stream",
          "name": "stdout",
          "text": [
            "/content/drive/MyDrive/Colab Notebooks/Data_Structures\n"
          ]
        }
      ]
    },
    {
      "cell_type": "code",
      "metadata": {
        "id": "6HmdvckoDy8J"
      },
      "source": [
        "from DS_Class.Stack import Stack"
      ],
      "execution_count": 3,
      "outputs": []
    },
    {
      "cell_type": "code",
      "metadata": {
        "colab": {
          "base_uri": "https://localhost:8080/"
        },
        "id": "6egWqCakEZOY",
        "outputId": "38c87363-7a7b-4e26-9ba4-18eebc36ee72"
      },
      "source": [
        "target = []\n",
        "n=int(input(\"몇 개의 숫자를 생성할까요?\"))\n",
        "for i in range(n):\n",
        "  target.append(int(input(\"숫자를 입력하세요.\")))\n",
        "\n",
        "print(target)\n",
        "\n",
        "station = Stack(len(target))\n",
        "targetIndex=0\n",
        "\n",
        "for current in range(1, len(target)+1):\n",
        "  station.push(current)\n",
        "  while not station.isEmpty() and (station.topv()==target[targetIndex]) and (targetIndex <= len(target)):\n",
        "  #while (!station.isEmpty()):\n",
        "    station.pop()\n",
        "    targetIndex=targetIndex+1\n",
        "\n",
        "if station.isEmpty():\n",
        "  print(\"Yes\")\n",
        "else:\n",
        "  print(\"No\")"
      ],
      "execution_count": 11,
      "outputs": [
        {
          "output_type": "stream",
          "name": "stdout",
          "text": [
            "몇 개의 숫자를 생성할까요?5\n",
            "숫자를 입력하세요.1\n",
            "숫자를 입력하세요.2\n",
            "숫자를 입력하세요.3\n",
            "숫자를 입력하세요.5\n",
            "숫자를 입력하세요.4\n",
            "[1, 2, 3, 5, 4]\n",
            "Yes\n"
          ]
        }
      ]
    }
  ]
}
